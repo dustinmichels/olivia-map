{
 "cells": [
  {
   "cell_type": "code",
   "execution_count": null,
   "id": "c785d4e3-3f98-4711-85c9-07fc41ea22b1",
   "metadata": {},
   "outputs": [],
   "source": [
    "import geopandas as gpd\n",
    "import pandas as pd"
   ]
  },
  {
   "cell_type": "code",
   "execution_count": null,
   "id": "5d2dec44-b6e8-4504-9395-5660ee2cae73",
   "metadata": {},
   "outputs": [],
   "source": [
    "FP_NE_ADMIN0 = \"data/ne/ne_10m_admin_0_countries.zip\"\n",
    "FP_NE_ADMIN1 = \"data/ne/ne_10m_admin_1_states_provinces.zip\"\n",
    "FP_NE_CITIES = \"data/ne/ne_10m_populated_places_simple.zip\"\n",
    "FP_OLIVIA = \"data/olivia_cities.csv\""
   ]
  },
  {
   "cell_type": "code",
   "execution_count": null,
   "id": "d16ef522-087d-4e84-af62-bcd59ca866b1",
   "metadata": {},
   "outputs": [],
   "source": [
    "# pd.options.display.max_columns = 999"
   ]
  },
  {
   "cell_type": "markdown",
   "id": "e43d3ed9-1eb8-4b8f-b85a-fd83f8f03f8f",
   "metadata": {},
   "source": [
    "## Preparing Olivia data"
   ]
  },
  {
   "cell_type": "markdown",
   "id": "ddc10783-7a5b-4336-8e90-fc33fe673ce3",
   "metadata": {},
   "source": [
    "### Read from Google Sheets"
   ]
  },
  {
   "cell_type": "code",
   "execution_count": null,
   "id": "82aac0d9-6501-4ef3-8717-fcadfd858d71",
   "metadata": {},
   "outputs": [],
   "source": [
    "def load_sheet(\n",
    "    refresh=False,\n",
    "    sheet_id=\"12I5GR8v8H1LVXtjYX5S-v6zuO0up_aY3D3BqplzSu4s\",\n",
    "    sheet_num=\"0\",\n",
    "    save_path=FP_OLIVIA,\n",
    "):\n",
    "    \"\"\"\n",
    "    Load data from Google Sheet and save again,\n",
    "    or just load from saved csv\n",
    "    \"\"\"\n",
    "    \n",
    "    if refresh:\n",
    "        url = f\"https://docs.google.com/spreadsheets/d/{sheet_id}/export?gid={sheet_num}&format=csv\"\n",
    "        df = pd.read_csv(url)\n",
    "        df.to_csv(save_path, index=False)\n",
    "        \n",
    "    # get data\n",
    "    return pd.read_csv(save_path)"
   ]
  },
  {
   "cell_type": "code",
   "execution_count": null,
   "id": "243627f6-cf93-49d8-9d90-2b50f4617738",
   "metadata": {},
   "outputs": [],
   "source": [
    "# df = load_sheet(refresh=True)"
   ]
  },
  {
   "cell_type": "code",
   "execution_count": null,
   "id": "d8bfb805-aa42-49b0-84cc-9e55d93c64c4",
   "metadata": {},
   "outputs": [],
   "source": [
    "def sort_by_date(df):\n",
    "    \"\"\"Convert date column to datetime for sorting, then back to string\"\"\"\n",
    "    df = df.astype({'date': 'datetime64[ns]'})\n",
    "    df = df.sort_values('date')\n",
    "    df = df.astype({'date': str})\n",
    "    return df"
   ]
  },
  {
   "cell_type": "code",
   "execution_count": null,
   "id": "f66c2b56-7842-4d46-a36c-b46e293e3397",
   "metadata": {},
   "outputs": [],
   "source": [
    "def get_data(refresh=False):\n",
    "    df = load_sheet(refresh=refresh)\n",
    "    df = sort_by_date(df)\n",
    "    return df"
   ]
  },
  {
   "cell_type": "code",
   "execution_count": null,
   "id": "0427eef0-5c1a-4984-8281-0e1a10b62fab",
   "metadata": {},
   "outputs": [],
   "source": [
    "df = get_data()\n",
    "df.shape"
   ]
  },
  {
   "cell_type": "markdown",
   "id": "bea93f8a-e58d-47a6-90cb-6a23b1b80a4e",
   "metadata": {},
   "source": [
    "### Preparing my dataset"
   ]
  },
  {
   "cell_type": "code",
   "execution_count": null,
   "id": "4ddcda20-6437-4c19-85b8-fd8668be4ef1",
   "metadata": {},
   "outputs": [],
   "source": [
    "def prepare_city_dataset(df):\n",
    "    use_cols = [\"name\", \"adm1name\", \"adm0name\", \"biked\", \"date\"]\n",
    "    df = df.loc[:, use_cols]\n",
    "    return df.groupby('name').agg(\n",
    "        {\n",
    "            'adm1name': 'first',\n",
    "            'adm0name': 'first',\n",
    "            'biked': 'any',\n",
    "            'date': 'first',\n",
    "        }\n",
    "    ).reset_index()"
   ]
  },
  {
   "cell_type": "code",
   "execution_count": null,
   "id": "08ba03c7-530e-426d-8224-2cdc031abde5",
   "metadata": {},
   "outputs": [],
   "source": [
    "def prepare_state_dataset(df):\n",
    "    use_cols = [\"adm1name\", \"adm0name\", \"biked\", \"date\"]\n",
    "    df = df.loc[:, use_cols]\n",
    "    return df.groupby('adm1name').agg(\n",
    "        {\n",
    "            'adm0name': 'first',\n",
    "            'biked': 'any',\n",
    "            'date': 'first',\n",
    "        }\n",
    "    ).reset_index()"
   ]
  },
  {
   "cell_type": "code",
   "execution_count": null,
   "id": "ef72bd2d-e4a9-4d9e-8b7e-3e17b6823002",
   "metadata": {},
   "outputs": [],
   "source": [
    "def prepare_country_dataset(df):\n",
    "    use_cols = [\"adm0name\", \"biked\", \"date\"]\n",
    "    df = df.loc[:, use_cols]\n",
    "    return df.groupby('adm0name').agg(\n",
    "        {\n",
    "            'biked': 'any',\n",
    "            'date': 'first',\n",
    "        }\n",
    "    ).reset_index()"
   ]
  },
  {
   "cell_type": "code",
   "execution_count": null,
   "id": "df4aed2b-e1e3-41da-b486-06457d872b89",
   "metadata": {},
   "outputs": [],
   "source": []
  },
  {
   "cell_type": "markdown",
   "id": "1788d7ef-b824-42db-986c-d07cedb8137e",
   "metadata": {},
   "source": [
    "## Get US States, non-US countries"
   ]
  },
  {
   "cell_type": "code",
   "execution_count": null,
   "id": "f51f129d-fba8-44a5-9b4e-122e67f6e9a2",
   "metadata": {},
   "outputs": [],
   "source": [
    "map_args = {\n",
    "    \"tiles\": \"CartoDB positron\"\n",
    "}"
   ]
  },
  {
   "cell_type": "code",
   "execution_count": null,
   "id": "f697d2b8-1c73-45dc-a31f-78c6a8827374",
   "metadata": {},
   "outputs": [],
   "source": [
    "df = get_data()\n",
    "\n",
    "visited_usa = df.loc[df[\"adm0name\"] == \"United States of America\"]\n",
    "visited_abroad = df.loc[df[\"adm0name\"] != \"United States of America\"]"
   ]
  },
  {
   "cell_type": "code",
   "execution_count": null,
   "id": "249c9471-6e93-41e0-835f-e7c78f2dcc4c",
   "metadata": {},
   "outputs": [],
   "source": []
  },
  {
   "cell_type": "markdown",
   "id": "16bcf5f3-dbbf-4bf6-ab5f-fbb9fc1d2a27",
   "metadata": {},
   "source": [
    "### US States (admin1)"
   ]
  },
  {
   "cell_type": "code",
   "execution_count": null,
   "id": "58fb9a05-a990-40a3-a08b-d24b55a2d147",
   "metadata": {},
   "outputs": [],
   "source": [
    "# --- export ---\n",
    "\n",
    "# readable_list = [ \"name\", \"name_alt\", \"admin\", \"adm0_a3\", \"adm1_code\", \"region\", \"type\", \"type_en\", \"postal\"]\n",
    "# regions[readable_list].to_csv(\"data/ne_out/ne_admin1.csv\")"
   ]
  },
  {
   "cell_type": "code",
   "execution_count": null,
   "id": "a42c98b2-6ce2-4cf5-a913-7a5c30af429a",
   "metadata": {},
   "outputs": [],
   "source": [
    "# get countries dataset\n",
    "regions = gpd.read_file(FP_NE_ADMIN1)\n",
    "\n",
    "# simplify\n",
    "regions_simple = regions.reset_index().loc[:, [\"index\", \"name\", \"admin\", \"geometry\"]]\n",
    "regions_simple.columns = [\"adm1index\", \"adm1name\", \"adm0name\", \"geometry\"]"
   ]
  },
  {
   "cell_type": "code",
   "execution_count": null,
   "id": "02d229ea-8328-4029-9af4-0b8da9bc0a8b",
   "metadata": {},
   "outputs": [],
   "source": [
    "v = prepare_state_dataset(visited_usa)\n",
    "# v.head()"
   ]
  },
  {
   "cell_type": "code",
   "execution_count": null,
   "id": "898f72f4-9537-4b48-b5ac-81f8aa5bc821",
   "metadata": {},
   "outputs": [],
   "source": [
    "merged_states = pd.merge(regions_simple, v)\n",
    "merged_states.head()"
   ]
  },
  {
   "cell_type": "code",
   "execution_count": null,
   "id": "511c023c-f3db-4f04-b209-1d5dcae59b3a",
   "metadata": {},
   "outputs": [],
   "source": [
    "# no states got lost??\n",
    "assert len(v) == len(merged_states)"
   ]
  },
  {
   "cell_type": "code",
   "execution_count": null,
   "id": "a799016d-1a4f-45da-86f7-35ce4e69eb65",
   "metadata": {},
   "outputs": [],
   "source": [
    "# m = merged_states.explore(\n",
    "#     column=\"biked\",\n",
    "#     tooltip=[\"adm1name\", \"biked\", \"date\"],\n",
    "#     **map_args,\n",
    "# )"
   ]
  },
  {
   "cell_type": "markdown",
   "id": "0abdc3a8-da18-43d2-8d35-cbfa3a16ad8d",
   "metadata": {},
   "source": [
    "### Countries (admin0)"
   ]
  },
  {
   "cell_type": "code",
   "execution_count": null,
   "id": "526c8408-f88d-469e-9579-d66b5c343295",
   "metadata": {},
   "outputs": [],
   "source": [
    "# get countries dataset\n",
    "countries = gpd.read_file(FP_NE_ADMIN0)\n",
    "\n",
    "# simplify\n",
    "countries_simple = countries.reset_index().loc[:, [\"index\", \"ADMIN\", \"geometry\"]]\n",
    "countries_simple.columns = [\"adm0index\", \"adm0name\", \"geometry\"]"
   ]
  },
  {
   "cell_type": "code",
   "execution_count": null,
   "id": "85dc91b6-8388-454a-8a98-5e5222264cf5",
   "metadata": {},
   "outputs": [],
   "source": [
    "merged_countries = pd.merge(\n",
    "    countries_simple,\n",
    "    prepare_country_dataset(visited_abroad)\n",
    ")\n",
    "\n",
    "merged_countries.head()"
   ]
  },
  {
   "cell_type": "code",
   "execution_count": null,
   "id": "60825152-9a72-4982-b706-03bea9946384",
   "metadata": {},
   "outputs": [],
   "source": [
    "# merged_countries.explore(\n",
    "#     m=m,\n",
    "#     tooltip=[\"adm0name\", \"biked\", \"date\"],\n",
    "#     **map_args\n",
    "# )"
   ]
  },
  {
   "cell_type": "code",
   "execution_count": null,
   "id": "904919a7-57c5-4aa3-93b8-97735cfb9795",
   "metadata": {},
   "outputs": [],
   "source": []
  },
  {
   "cell_type": "markdown",
   "id": "2d33e74c-3463-4745-beaf-602ea941e8fb",
   "metadata": {},
   "source": [
    "### Combined"
   ]
  },
  {
   "cell_type": "code",
   "execution_count": null,
   "id": "e352620b-f88a-4e26-ac33-217099a95a45",
   "metadata": {},
   "outputs": [],
   "source": [
    "merged = pd.concat([\n",
    "    merged_countries.rename(columns={'adm0name': 'name'}),\n",
    "    merged_states.rename(columns={'adm1name': 'name'})\n",
    "])"
   ]
  },
  {
   "cell_type": "code",
   "execution_count": null,
   "id": "6c728c1b-16ef-4dac-a451-4db1c458746f",
   "metadata": {},
   "outputs": [],
   "source": [
    "m = merged.explore(\n",
    "    column=\"biked\",\n",
    "    tooltip=[\"name\", \"biked\"],\n",
    "    **map_args\n",
    ")\n",
    "m"
   ]
  },
  {
   "cell_type": "code",
   "execution_count": null,
   "id": "712e44a5-b2ad-40cc-9e55-c0e2d2106df5",
   "metadata": {},
   "outputs": [],
   "source": [
    "m.save(\"map.html\")"
   ]
  },
  {
   "cell_type": "code",
   "execution_count": null,
   "id": "f97cdccf-0358-42b7-a24f-6bb53dc784f4",
   "metadata": {},
   "outputs": [],
   "source": []
  },
  {
   "cell_type": "code",
   "execution_count": null,
   "id": "5f9c8d58-9489-4010-aca5-6b590484ddb1",
   "metadata": {},
   "outputs": [],
   "source": []
  },
  {
   "cell_type": "code",
   "execution_count": null,
   "id": "a7084680-a4a8-41c6-8933-bbeafe9d9902",
   "metadata": {},
   "outputs": [],
   "source": []
  },
  {
   "cell_type": "markdown",
   "id": "df8c0aad-b695-465c-acd1-908ca4aea393",
   "metadata": {},
   "source": [
    "## Other"
   ]
  },
  {
   "cell_type": "markdown",
   "id": "0e0b400f-3d20-4a7a-bd0c-78eb4acc5064",
   "metadata": {},
   "source": [
    "### Find missing stuff"
   ]
  },
  {
   "cell_type": "code",
   "execution_count": null,
   "id": "4d04dec2-0b72-4a42-94be-e988a4dad8d4",
   "metadata": {},
   "outputs": [],
   "source": [
    "merged = gdf.merge(df, on=[\"name\", \"adm0name\"], how='right')"
   ]
  },
  {
   "cell_type": "code",
   "execution_count": null,
   "id": "63c9553e-feae-4f28-8383-a6f8aeb1783d",
   "metadata": {},
   "outputs": [],
   "source": [
    "# merged[merged['index_x'].isna()]"
   ]
  },
  {
   "cell_type": "code",
   "execution_count": null,
   "id": "34862a52-9c89-4ba9-99ec-fb5ecf68ca42",
   "metadata": {},
   "outputs": [],
   "source": [
    "merged = gdf.merge(df, on=[\"name\", \"adm0name\"])"
   ]
  },
  {
   "cell_type": "code",
   "execution_count": null,
   "id": "125e37ef-966a-4f6f-a961-158d61587530",
   "metadata": {},
   "outputs": [],
   "source": [
    "merged = gdf.merge(df, on=[\"name\", \"adm1name\", \"adm0name\"])"
   ]
  },
  {
   "cell_type": "code",
   "execution_count": null,
   "id": "a5a9d4ea-8a47-4afd-9205-8871af4eb7d3",
   "metadata": {},
   "outputs": [],
   "source": []
  },
  {
   "cell_type": "code",
   "execution_count": null,
   "id": "46749588-5b51-4133-8a88-16c02e31d1d3",
   "metadata": {},
   "outputs": [],
   "source": []
  },
  {
   "cell_type": "markdown",
   "id": "24c153c8-0bdc-481d-825d-c3f5dfb094dc",
   "metadata": {},
   "source": [
    "## Cities"
   ]
  },
  {
   "cell_type": "code",
   "execution_count": null,
   "id": "74b56e4a-c6b2-4e1e-a2d5-28092b4eaf71",
   "metadata": {},
   "outputs": [],
   "source": [
    "# pd.set_option(\"display.max.columns\", None)"
   ]
  },
  {
   "cell_type": "code",
   "execution_count": null,
   "id": "518ca850-67b5-4e27-82b0-790939a01d18",
   "metadata": {},
   "outputs": [],
   "source": [
    "# get olivia data\n",
    "df = load_sheet(refresh=False)\n",
    "\n",
    "# prepare it\n",
    "df = df.reset_index()\n",
    "df[\"date\"] = pd.to_datetime(df[\"date\"])"
   ]
  },
  {
   "cell_type": "code",
   "execution_count": null,
   "id": "b75aea2d-6fdc-4a2e-a09e-1e0fded77d42",
   "metadata": {},
   "outputs": [],
   "source": [
    "\n",
    "\n",
    "# get cities data\n",
    "gdf_full = gpd.read_file(FP_NE_CITIES)\n",
    "\n",
    "# prepare it\n",
    "# gdf = gdf_full.reset_index().loc[:, [\"index\", \"name\", \"adm1name\", \"adm0name\"]]\n",
    "gdf = gdf_full"
   ]
  },
  {
   "cell_type": "code",
   "execution_count": null,
   "id": "4f541b3a-44e5-48d2-b759-2890f2587c2c",
   "metadata": {},
   "outputs": [],
   "source": [
    "# gdf_full[gdf_full[\"NAME\"] == \"Helsinki\"]"
   ]
  },
  {
   "cell_type": "code",
   "execution_count": null,
   "id": "0005ad67-2db0-49cb-84be-9a543f617b51",
   "metadata": {},
   "outputs": [],
   "source": []
  },
  {
   "cell_type": "code",
   "execution_count": null,
   "id": "1a9f6abb-274b-47b3-90de-4f63bbcf569f",
   "metadata": {},
   "outputs": [],
   "source": []
  },
  {
   "cell_type": "code",
   "execution_count": null,
   "id": "13a497a4-15f3-4c18-917f-32f333217cbe",
   "metadata": {},
   "outputs": [],
   "source": []
  }
 ],
 "metadata": {
  "kernelspec": {
   "display_name": "Python 3 (ipykernel)",
   "language": "python",
   "name": "python3"
  },
  "language_info": {
   "codemirror_mode": {
    "name": "ipython",
    "version": 3
   },
   "file_extension": ".py",
   "mimetype": "text/x-python",
   "name": "python",
   "nbconvert_exporter": "python",
   "pygments_lexer": "ipython3",
   "version": "3.10.6"
  }
 },
 "nbformat": 4,
 "nbformat_minor": 5
}
