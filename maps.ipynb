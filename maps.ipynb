{
 "cells": [
  {
   "cell_type": "code",
   "execution_count": null,
   "id": "c785d4e3-3f98-4711-85c9-07fc41ea22b1",
   "metadata": {},
   "outputs": [],
   "source": [
    "import geopandas as gpd\n",
    "import pandas as pd"
   ]
  },
  {
   "cell_type": "markdown",
   "id": "ddc10783-7a5b-4336-8e90-fc33fe673ce3",
   "metadata": {},
   "source": [
    "## Read from Google Sheets"
   ]
  },
  {
   "cell_type": "code",
   "execution_count": null,
   "id": "82aac0d9-6501-4ef3-8717-fcadfd858d71",
   "metadata": {},
   "outputs": [],
   "source": [
    "def load_sheet(\n",
    "    refresh=False,\n",
    "    sheet_id=\"12I5GR8v8H1LVXtjYX5S-v6zuO0up_aY3D3BqplzSu4s\",\n",
    "    sheet_num=\"0\",\n",
    "    save_path=\"data/olivia_cities.csv\",\n",
    "):\n",
    "    \"\"\"\n",
    "    Load data from Google Sheet and save again,\n",
    "    or just load from saved csv\n",
    "    \"\"\"\n",
    "    \n",
    "    if refresh:\n",
    "        url = f\"https://docs.google.com/spreadsheets/d/{sheet_id}/export?gid={sheet_num}&format=csv\"\n",
    "        df = pd.read_csv(url)\n",
    "        df.to_csv(save_path, index=False)\n",
    "        \n",
    "    # get data\n",
    "    return pd.read_csv(save_path)"
   ]
  },
  {
   "cell_type": "code",
   "execution_count": null,
   "id": "243627f6-cf93-49d8-9d90-2b50f4617738",
   "metadata": {},
   "outputs": [],
   "source": [
    "# df = load_sheet(refresh=True)"
   ]
  },
  {
   "cell_type": "code",
   "execution_count": null,
   "id": "4551dd2a-9c49-4cb8-877b-0d9a0c40d6bf",
   "metadata": {},
   "outputs": [],
   "source": []
  },
  {
   "cell_type": "code",
   "execution_count": null,
   "id": "3b79627a-bbe2-4f00-9aec-bd218d2a4707",
   "metadata": {},
   "outputs": [],
   "source": []
  },
  {
   "cell_type": "code",
   "execution_count": null,
   "id": "d42f027b-1245-4f43-a7ff-8b11552b2693",
   "metadata": {},
   "outputs": [],
   "source": []
  },
  {
   "cell_type": "code",
   "execution_count": null,
   "id": "a9b8d06f-e3e6-40d9-89d2-843664e3774f",
   "metadata": {},
   "outputs": [],
   "source": []
  },
  {
   "cell_type": "code",
   "execution_count": null,
   "id": "731feda2-5d40-46d5-af07-4a15337e4e78",
   "metadata": {},
   "outputs": [],
   "source": []
  },
  {
   "cell_type": "code",
   "execution_count": null,
   "id": "1e974845-acee-4fa9-a4f3-2afb4c703f20",
   "metadata": {},
   "outputs": [],
   "source": []
  },
  {
   "cell_type": "code",
   "execution_count": null,
   "id": "58848233-0d7b-437f-9b87-be86394eae0e",
   "metadata": {},
   "outputs": [],
   "source": []
  },
  {
   "cell_type": "code",
   "execution_count": null,
   "id": "64549cbd-29c8-4002-8a8b-92c35bb7978d",
   "metadata": {},
   "outputs": [],
   "source": []
  },
  {
   "cell_type": "markdown",
   "id": "d2f01309-fdfc-4f8c-b979-01faf184353f",
   "metadata": {},
   "source": [
    "## Cities"
   ]
  },
  {
   "cell_type": "code",
   "execution_count": null,
   "id": "74b56e4a-c6b2-4e1e-a2d5-28092b4eaf71",
   "metadata": {},
   "outputs": [],
   "source": [
    "# pd.set_option(\"display.max.columns\", None)"
   ]
  },
  {
   "cell_type": "code",
   "execution_count": null,
   "id": "518ca850-67b5-4e27-82b0-790939a01d18",
   "metadata": {},
   "outputs": [],
   "source": [
    "# get olivia data\n",
    "df = load_sheet(refresh=False)\n",
    "\n",
    "# prepare it\n",
    "df = df.reset_index()\n",
    "df[\"date\"] = pd.to_datetime(df[\"date\"])"
   ]
  },
  {
   "cell_type": "code",
   "execution_count": null,
   "id": "b75aea2d-6fdc-4a2e-a09e-1e0fded77d42",
   "metadata": {},
   "outputs": [],
   "source": [
    "fp = \"data/ne_10m_populated_places.zip\"\n",
    "\n",
    "# get cities data\n",
    "gdf_full = gpd.read_file(fp)\n",
    "\n",
    "# prepare it\n",
    "# gdf = gdf_full.reset_index().loc[:, [\"index\", \"name\", \"adm1name\", \"adm0name\"]]\n",
    "gdf = gdf_full"
   ]
  },
  {
   "cell_type": "code",
   "execution_count": null,
   "id": "4f541b3a-44e5-48d2-b759-2890f2587c2c",
   "metadata": {},
   "outputs": [],
   "source": [
    "# gdf_full[gdf_full[\"NAME\"] == \"Helsinki\"]"
   ]
  },
  {
   "cell_type": "code",
   "execution_count": null,
   "id": "92a77da0-086b-4282-b817-f5995c06b6be",
   "metadata": {},
   "outputs": [],
   "source": []
  },
  {
   "cell_type": "code",
   "execution_count": null,
   "id": "9c3e652c-96f8-4dd6-bd51-59c48dc79074",
   "metadata": {},
   "outputs": [],
   "source": []
  },
  {
   "cell_type": "markdown",
   "id": "9fc45cb8-a647-4263-a72b-5b1bf4b88478",
   "metadata": {},
   "source": [
    "### Cleanup"
   ]
  },
  {
   "cell_type": "code",
   "execution_count": null,
   "id": "85ff2565-64dd-40c7-9512-2e43707b9ed8",
   "metadata": {},
   "outputs": [],
   "source": [
    "def keep_first(df, col):\n",
    "    \"\"\"Remove duplicate regions, keep first by date\"\"\"\n",
    "    \n",
    "    df[\"date\"] = pd.to_datetime(df[\"date\"])\n",
    "    df = df.sort_values(\"date\")\n",
    "    return df[[col, \"date\"]].drop_duplicates(col, keep='first')"
   ]
  },
  {
   "cell_type": "code",
   "execution_count": null,
   "id": "7f633ace-d55d-44f0-be86-f03c7b734f67",
   "metadata": {},
   "outputs": [],
   "source": []
  },
  {
   "cell_type": "code",
   "execution_count": null,
   "id": "5fc9fcfc-e5ec-441f-b4fe-b852b38fc953",
   "metadata": {},
   "outputs": [],
   "source": []
  },
  {
   "cell_type": "markdown",
   "id": "0abdc3a8-da18-43d2-8d35-cbfa3a16ad8d",
   "metadata": {},
   "source": [
    "### Countries (admin0)"
   ]
  },
  {
   "cell_type": "code",
   "execution_count": null,
   "id": "dd5c93cc-87dd-4b2b-905b-82e13101c33e",
   "metadata": {},
   "outputs": [],
   "source": [
    "def merge_countries(countries, visited):\n",
    "    countries_small = countries[\"ADMIN\"].reset_index()\n",
    "    merged = pd.merge(countries_small, visited, left_on=\"ADMIN\", right_on=\"adm0name\")\n",
    "    return countries.iloc[merged['index']] "
   ]
  },
  {
   "cell_type": "code",
   "execution_count": null,
   "id": "a20c9d66-7687-4d3c-b8b7-47c44f169079",
   "metadata": {},
   "outputs": [],
   "source": [
    "df = load_sheet(refresh=False)\n",
    "df = keep_first(df, \"adm0name\")\n",
    "\n",
    "countries = gpd.read_file(\"data/ne_10m_admin_0_countries.zip\")\n",
    "\n",
    "# merge together\n",
    "countries_filtered = merge_countries(countries, df)"
   ]
  },
  {
   "cell_type": "code",
   "execution_count": null,
   "id": "f07a4e91-654e-4a28-a78d-6ed994c004e8",
   "metadata": {},
   "outputs": [],
   "source": [
    "# m = countries_filtered.explore()\n",
    "# m"
   ]
  },
  {
   "cell_type": "code",
   "execution_count": null,
   "id": "3c2acd5f-e68e-4e84-8840-3a7671bb4003",
   "metadata": {},
   "outputs": [],
   "source": []
  },
  {
   "cell_type": "markdown",
   "id": "91d98add-6e9b-43a3-bdfe-4310d2feac0d",
   "metadata": {},
   "source": [
    "### Region (admin1)"
   ]
  },
  {
   "cell_type": "code",
   "execution_count": null,
   "id": "890c015d-6eff-4c40-baf1-cfe956ec5353",
   "metadata": {},
   "outputs": [],
   "source": [
    "regions = gpd.read_file(\"data/ne_10m_admin_1_states_provinces.zip\")"
   ]
  },
  {
   "cell_type": "code",
   "execution_count": null,
   "id": "e94a7cae-b821-4de0-bb6c-af705eb13c4b",
   "metadata": {},
   "outputs": [],
   "source": [
    "# export\n",
    "\n",
    "# readable_list = [\"adm1_code\", \"iso_a2\", \"name\", \"name_alt\", \"region\", \"type\", \"type_en\", \"postal\", \"adm0_a3\", \"iso_3166_2\"]\n",
    "# regions[readable_list].to_csv(\"admin1.csv\")"
   ]
  },
  {
   "cell_type": "code",
   "execution_count": null,
   "id": "4d29f631-e741-4c4f-84ab-262cb06ea247",
   "metadata": {},
   "outputs": [],
   "source": [
    "def merge_regions(regions, visited):\n",
    "    region_small = regions[\"name\"].reset_index()\n",
    "    merged = pd.merge(region_small, visited, left_on=\"name\", right_on=\"adm1name\", how=\"inner\")\n",
    "    return regions.iloc[merged['index']] "
   ]
  },
  {
   "cell_type": "code",
   "execution_count": null,
   "id": "f48dd0b7-7fcb-4ecb-94af-2de93ae89819",
   "metadata": {},
   "outputs": [],
   "source": [
    "df = load_sheet(refresh=False)\n",
    "df = keep_first(df, \"adm1name\")\n",
    "\n",
    "regions = gpd.read_file(\"data/ne_10m_admin_1_states_provinces.zip\")"
   ]
  },
  {
   "cell_type": "code",
   "execution_count": null,
   "id": "afb07656-e2a9-44a8-a52b-992695164ce3",
   "metadata": {},
   "outputs": [],
   "source": [
    "merged_regions = merge_regions(regions, df)\n",
    "merged_regions.shape"
   ]
  },
  {
   "cell_type": "code",
   "execution_count": null,
   "id": "ec31176b-fc25-4179-a343-a6e527aa4a22",
   "metadata": {},
   "outputs": [],
   "source": [
    "# fin = regions[regions[\"adm0_a3\"] == \"FIN\"]"
   ]
  },
  {
   "cell_type": "code",
   "execution_count": null,
   "id": "2dfd937f-27e0-4112-a8c3-392e8081944a",
   "metadata": {},
   "outputs": [],
   "source": [
    "# fin[fin[\"name\"] == \"Uusimaa\"]"
   ]
  },
  {
   "cell_type": "code",
   "execution_count": null,
   "id": "568321fa-fc03-45bc-8b4e-1256c4c80d34",
   "metadata": {},
   "outputs": [],
   "source": [
    "# merged_regions.explore(\n",
    "#     # m=m,\n",
    "#     tiles=\"CartoDB positron\",\n",
    "#     color='red'\n",
    "# )"
   ]
  },
  {
   "cell_type": "code",
   "execution_count": null,
   "id": "1739e28d-3f0d-44c6-9c9c-8285f06a2b8a",
   "metadata": {},
   "outputs": [],
   "source": []
  },
  {
   "cell_type": "code",
   "execution_count": null,
   "id": "13110b12-00a9-48a0-bf39-21071a5f8ec6",
   "metadata": {},
   "outputs": [],
   "source": []
  },
  {
   "cell_type": "code",
   "execution_count": null,
   "id": "a799016d-1a4f-45da-86f7-35ce4e69eb65",
   "metadata": {},
   "outputs": [],
   "source": [
    "countries_filtered.explore(\n",
    "    # column=\"ADMIN\",\n",
    "    tooltip=\"ADMIN\",\n",
    "    tiles=\"CartoDB positron\"\n",
    ")"
   ]
  },
  {
   "cell_type": "code",
   "execution_count": null,
   "id": "712e44a5-b2ad-40cc-9e55-c0e2d2106df5",
   "metadata": {},
   "outputs": [],
   "source": []
  },
  {
   "cell_type": "code",
   "execution_count": null,
   "id": "cbce7b78-36c5-42d1-8237-54adc96c7823",
   "metadata": {},
   "outputs": [],
   "source": []
  },
  {
   "cell_type": "code",
   "execution_count": null,
   "id": "9aba6abf-0a9d-47fa-b249-7e0c3de133fd",
   "metadata": {},
   "outputs": [],
   "source": []
  },
  {
   "cell_type": "markdown",
   "id": "fd7261c5-e4b5-4954-9228-0116a01d08c4",
   "metadata": {},
   "source": [
    "### Merge"
   ]
  },
  {
   "cell_type": "code",
   "execution_count": null,
   "id": "d06d91fc-a3b8-400c-8760-4294c69f9587",
   "metadata": {},
   "outputs": [],
   "source": [
    "merged = gdf.merge(df, on=[\"name\", \"adm1name\", \"adm0name\"])"
   ]
  },
  {
   "cell_type": "code",
   "execution_count": null,
   "id": "59b0782e-b3d0-4972-8f66-bb4c3500f1db",
   "metadata": {},
   "outputs": [],
   "source": [
    "# merged"
   ]
  },
  {
   "cell_type": "markdown",
   "id": "87b47272-a634-4295-954e-feb937dad431",
   "metadata": {},
   "source": [
    "### Backwards"
   ]
  },
  {
   "cell_type": "code",
   "execution_count": null,
   "id": "fcbd1eff-6e9c-41ac-b28d-a837579d55a9",
   "metadata": {},
   "outputs": [],
   "source": [
    "# filtered = gdf_full.iloc[merged[\"index_x\"]]"
   ]
  },
  {
   "cell_type": "code",
   "execution_count": null,
   "id": "53521288-0b69-4ecf-9a0e-e7c15a8f85b6",
   "metadata": {},
   "outputs": [],
   "source": [
    "filtered = merged"
   ]
  },
  {
   "cell_type": "code",
   "execution_count": null,
   "id": "a788dfc6-c60f-4a80-ba0e-9c18bc5dc300",
   "metadata": {},
   "outputs": [],
   "source": [
    "filtered = filtered.drop('Date', axis=1)"
   ]
  },
  {
   "cell_type": "code",
   "execution_count": null,
   "id": "98904a8c-f9bc-45b1-95a4-7777dc2925da",
   "metadata": {},
   "outputs": [],
   "source": [
    "# filtered.explore(\n",
    "#     column=\"biked?\",\n",
    "#     tooltip=\"name\",\n",
    "#     cmap=\"Set2\",\n",
    "#     tiles=\"CartoDB positron\"\n",
    "# )"
   ]
  },
  {
   "cell_type": "code",
   "execution_count": null,
   "id": "f89ec2c6-15ec-4d73-9614-16b9565a7b90",
   "metadata": {},
   "outputs": [],
   "source": []
  },
  {
   "cell_type": "markdown",
   "id": "0e0b400f-3d20-4a7a-bd0c-78eb4acc5064",
   "metadata": {},
   "source": [
    "### Find missing stuff"
   ]
  },
  {
   "cell_type": "code",
   "execution_count": null,
   "id": "4d04dec2-0b72-4a42-94be-e988a4dad8d4",
   "metadata": {},
   "outputs": [],
   "source": [
    "merged = gdf.merge(df, on=[\"name\", \"adm0name\"], how='right')"
   ]
  },
  {
   "cell_type": "code",
   "execution_count": null,
   "id": "63c9553e-feae-4f28-8383-a6f8aeb1783d",
   "metadata": {},
   "outputs": [],
   "source": [
    "# merged[merged['index_x'].isna()]"
   ]
  },
  {
   "cell_type": "code",
   "execution_count": null,
   "id": "9ed1de70-a371-447d-998b-add3b80ffd4a",
   "metadata": {},
   "outputs": [],
   "source": []
  },
  {
   "cell_type": "code",
   "execution_count": null,
   "id": "a5043a87-a108-4f99-a8f2-d0f1bb9be0a4",
   "metadata": {},
   "outputs": [],
   "source": []
  },
  {
   "cell_type": "code",
   "execution_count": null,
   "id": "34862a52-9c89-4ba9-99ec-fb5ecf68ca42",
   "metadata": {},
   "outputs": [],
   "source": [
    "merged = gdf.merge(df, on=[\"name\", \"adm0name\"])"
   ]
  },
  {
   "cell_type": "code",
   "execution_count": null,
   "id": "125e37ef-966a-4f6f-a961-158d61587530",
   "metadata": {},
   "outputs": [],
   "source": [
    "merged = gdf.merge(df, on=[\"name\", \"adm1name\", \"adm0name\"])"
   ]
  },
  {
   "cell_type": "code",
   "execution_count": null,
   "id": "a5a9d4ea-8a47-4afd-9205-8871af4eb7d3",
   "metadata": {},
   "outputs": [],
   "source": []
  }
 ],
 "metadata": {
  "kernelspec": {
   "display_name": "Python 3 (ipykernel)",
   "language": "python",
   "name": "python3"
  },
  "language_info": {
   "codemirror_mode": {
    "name": "ipython",
    "version": 3
   },
   "file_extension": ".py",
   "mimetype": "text/x-python",
   "name": "python",
   "nbconvert_exporter": "python",
   "pygments_lexer": "ipython3",
   "version": "3.10.6"
  }
 },
 "nbformat": 4,
 "nbformat_minor": 5
}
