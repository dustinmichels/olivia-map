{
 "cells": [
  {
   "cell_type": "code",
   "execution_count": null,
   "id": "c785d4e3-3f98-4711-85c9-07fc41ea22b1",
   "metadata": {},
   "outputs": [],
   "source": [
    "import geopandas as gpd\n",
    "import pandas as pd"
   ]
  },
  {
   "cell_type": "code",
   "execution_count": null,
   "id": "5d2dec44-b6e8-4504-9395-5660ee2cae73",
   "metadata": {},
   "outputs": [],
   "source": [
    "FP_NE_ADMIN0 = \"data/ne/ne_10m_admin_0_countries.zip\"\n",
    "FP_NE_ADMIN1 = \"data/ne/ne_10m_admin_1_states_provinces.zip\"\n",
    "FP_NE_CITIES = \"data/ne/ne_10m_populated_places_simple.zip\""
   ]
  },
  {
   "cell_type": "markdown",
   "id": "ddc10783-7a5b-4336-8e90-fc33fe673ce3",
   "metadata": {},
   "source": [
    "## Read from Google Sheets"
   ]
  },
  {
   "cell_type": "code",
   "execution_count": null,
   "id": "82aac0d9-6501-4ef3-8717-fcadfd858d71",
   "metadata": {},
   "outputs": [],
   "source": [
    "def load_sheet(\n",
    "    refresh=False,\n",
    "    sheet_id=\"12I5GR8v8H1LVXtjYX5S-v6zuO0up_aY3D3BqplzSu4s\",\n",
    "    sheet_num=\"0\",\n",
    "    save_path=\"data/olivia_cities.csv\",\n",
    "):\n",
    "    \"\"\"\n",
    "    Load data from Google Sheet and save again,\n",
    "    or just load from saved csv\n",
    "    \"\"\"\n",
    "    \n",
    "    if refresh:\n",
    "        url = f\"https://docs.google.com/spreadsheets/d/{sheet_id}/export?gid={sheet_num}&format=csv\"\n",
    "        df = pd.read_csv(url)\n",
    "        df.to_csv(save_path, index=False)\n",
    "        \n",
    "    # get data\n",
    "    return pd.read_csv(save_path)"
   ]
  },
  {
   "cell_type": "code",
   "execution_count": null,
   "id": "243627f6-cf93-49d8-9d90-2b50f4617738",
   "metadata": {},
   "outputs": [],
   "source": [
    "# df = load_sheet(refresh=True)"
   ]
  },
  {
   "cell_type": "code",
   "execution_count": null,
   "id": "cb59d6a2-fcc1-418f-80f7-8d2958aee1a6",
   "metadata": {},
   "outputs": [],
   "source": [
    "def prepare_data():\n",
    "    df = load_sheet(refresh=False)\n",
    "    \n",
    "    # TODO: replace with groupby, retaining earliest date and any bike\n",
    "    df = df.drop_duplicates(\"name\")\n",
    "    \n",
    "    return df"
   ]
  },
  {
   "cell_type": "code",
   "execution_count": null,
   "id": "3b96eaee-1dda-4c33-a258-79f0f5882ab4",
   "metadata": {},
   "outputs": [],
   "source": []
  },
  {
   "cell_type": "markdown",
   "id": "9f8be6c8-0531-442b-9151-0f699cb4aac8",
   "metadata": {},
   "source": [
    "### Cleanup"
   ]
  },
  {
   "cell_type": "code",
   "execution_count": null,
   "id": "85ff2565-64dd-40c7-9512-2e43707b9ed8",
   "metadata": {},
   "outputs": [],
   "source": [
    "def keep_first(df, col):\n",
    "    \"\"\"Remove duplicate, keep first by date\"\"\"\n",
    "    \n",
    "    # copy\n",
    "    df = pd.DataFrame(df)\n",
    "    \n",
    "    # sort by date\n",
    "    df[\"date\"] = pd.to_datetime(df[\"date\"])\n",
    "    df = df.sort_values(\"date\")\n",
    "    \n",
    "    # return simplified\n",
    "    return df[[col, \"biked?\", \"date\"]].drop_duplicates(col, keep='first')"
   ]
  },
  {
   "cell_type": "code",
   "execution_count": null,
   "id": "a319e3ae-a31d-4956-a02b-688b52e0af95",
   "metadata": {},
   "outputs": [],
   "source": []
  },
  {
   "cell_type": "markdown",
   "id": "1788d7ef-b824-42db-986c-d07cedb8137e",
   "metadata": {},
   "source": [
    "## Get US States, non-US countries"
   ]
  },
  {
   "cell_type": "code",
   "execution_count": null,
   "id": "9c3f6690-a285-4a7d-b634-fcc6dda13516",
   "metadata": {},
   "outputs": [],
   "source": [
    "map_args = {\n",
    "    \"tiles\": \"CartoDB positron\"\n",
    "}"
   ]
  },
  {
   "cell_type": "code",
   "execution_count": null,
   "id": "0cc79694-1338-422a-82e2-ca1e888e8cf8",
   "metadata": {},
   "outputs": [],
   "source": [
    "df = prepare_data()\n",
    "df.shape"
   ]
  },
  {
   "cell_type": "code",
   "execution_count": null,
   "id": "01685633-b62a-46de-b540-3a1a2ddd7592",
   "metadata": {},
   "outputs": [],
   "source": [
    "visited_usa = df.loc[df[\"adm0name\"] == \"United States of America\"]\n",
    "visited_abroad = df.loc[df[\"adm0name\"] != \"United States of America\"]"
   ]
  },
  {
   "cell_type": "code",
   "execution_count": null,
   "id": "2fd256d6-4ce5-48d8-90b0-818d042a365f",
   "metadata": {},
   "outputs": [],
   "source": []
  },
  {
   "cell_type": "markdown",
   "id": "0abdc3a8-da18-43d2-8d35-cbfa3a16ad8d",
   "metadata": {},
   "source": [
    "### Countries (admin0)"
   ]
  },
  {
   "cell_type": "code",
   "execution_count": null,
   "id": "dd5c93cc-87dd-4b2b-905b-82e13101c33e",
   "metadata": {},
   "outputs": [],
   "source": [
    "def merge_countries(countries, visited):\n",
    "    countries_small = countries[\"ADMIN\"].reset_index()\n",
    "    merged = pd.merge(countries_small, visited, left_on=\"ADMIN\", right_on=\"adm0name\")\n",
    "    return countries.iloc[merged['index']]"
   ]
  },
  {
   "cell_type": "code",
   "execution_count": null,
   "id": "12c049ce-59e1-4aef-86f2-9e0213dca9b9",
   "metadata": {},
   "outputs": [],
   "source": [
    "# get countries visited\n",
    "v = keep_first(visited_abroad, \"adm0name\").dropna()\n",
    "\n",
    "# get countries dataset\n",
    "countries = gpd.read_file(FP_NE_ADMIN0)"
   ]
  },
  {
   "cell_type": "code",
   "execution_count": null,
   "id": "8fe0bb61-a76a-49a5-a792-87cf6321f223",
   "metadata": {},
   "outputs": [],
   "source": [
    "f = merge_countries(countries, v)"
   ]
  },
  {
   "cell_type": "code",
   "execution_count": null,
   "id": "60825152-9a72-4982-b706-03bea9946384",
   "metadata": {},
   "outputs": [],
   "source": [
    "m = f.explore(\n",
    "    tooltip=\"ADMIN\",\n",
    "    **map_args\n",
    ")"
   ]
  },
  {
   "cell_type": "code",
   "execution_count": null,
   "id": "75f561c4-7a7e-4f24-8a86-eecb1a93e0b4",
   "metadata": {},
   "outputs": [],
   "source": []
  },
  {
   "cell_type": "code",
   "execution_count": null,
   "id": "4d802579-5cfe-4b07-abfa-07d14abf8bcc",
   "metadata": {},
   "outputs": [],
   "source": []
  },
  {
   "cell_type": "markdown",
   "id": "b7b4288f-85b8-4953-8740-04ff9f77805c",
   "metadata": {},
   "source": [
    "### US States (admin1)"
   ]
  },
  {
   "cell_type": "code",
   "execution_count": null,
   "id": "04db0a4c-6f6e-4557-a2f2-1d1c08f7d5d7",
   "metadata": {},
   "outputs": [],
   "source": [
    "def merge_regions(regions, visited):\n",
    "    region_small = regions[\"name\"].reset_index()\n",
    "    merged = pd.merge(region_small, visited, left_on=\"name\", right_on=\"adm1name\", how=\"inner\")\n",
    "    return regions.iloc[merged['index']] "
   ]
  },
  {
   "cell_type": "code",
   "execution_count": null,
   "id": "8ab19dc8-1bb2-4a62-8a2f-b12b7f2cb6d5",
   "metadata": {},
   "outputs": [],
   "source": [
    "v = keep_first(visited_usa, \"adm1name\")"
   ]
  },
  {
   "cell_type": "code",
   "execution_count": null,
   "id": "fc2ef7c6-4c62-41d6-8027-ee3f161e2ef9",
   "metadata": {},
   "outputs": [],
   "source": [
    "regions = gpd.read_file(FP_NE_ADMIN1)"
   ]
  },
  {
   "cell_type": "code",
   "execution_count": null,
   "id": "e94a7cae-b821-4de0-bb6c-af705eb13c4b",
   "metadata": {},
   "outputs": [],
   "source": [
    "# export\n",
    "\n",
    "# readable_list = [\"adm1_code\", \"iso_a2\", \"name\", \"name_alt\", \"region\", \"type\", \"type_en\", \"postal\", \"adm0_a3\", \"iso_3166_2\"]\n",
    "# regions[readable_list].to_csv(\"admin1.csv\")"
   ]
  },
  {
   "cell_type": "code",
   "execution_count": null,
   "id": "afb07656-e2a9-44a8-a52b-992695164ce3",
   "metadata": {},
   "outputs": [],
   "source": [
    "merged_regions = merge_regions(regions, v)\n",
    "merged_regions.shape"
   ]
  },
  {
   "cell_type": "code",
   "execution_count": null,
   "id": "a799016d-1a4f-45da-86f7-35ce4e69eb65",
   "metadata": {},
   "outputs": [],
   "source": [
    "merged_regions.explore(\n",
    "    tiles=\"CartoDB positron\"\n",
    ")"
   ]
  },
  {
   "cell_type": "code",
   "execution_count": null,
   "id": "712e44a5-b2ad-40cc-9e55-c0e2d2106df5",
   "metadata": {},
   "outputs": [],
   "source": []
  },
  {
   "cell_type": "markdown",
   "id": "df8c0aad-b695-465c-acd1-908ca4aea393",
   "metadata": {},
   "source": [
    "## Other"
   ]
  },
  {
   "cell_type": "markdown",
   "id": "0e0b400f-3d20-4a7a-bd0c-78eb4acc5064",
   "metadata": {},
   "source": [
    "### Find missing stuff"
   ]
  },
  {
   "cell_type": "code",
   "execution_count": null,
   "id": "4d04dec2-0b72-4a42-94be-e988a4dad8d4",
   "metadata": {},
   "outputs": [],
   "source": [
    "merged = gdf.merge(df, on=[\"name\", \"adm0name\"], how='right')"
   ]
  },
  {
   "cell_type": "code",
   "execution_count": null,
   "id": "63c9553e-feae-4f28-8383-a6f8aeb1783d",
   "metadata": {},
   "outputs": [],
   "source": [
    "# merged[merged['index_x'].isna()]"
   ]
  },
  {
   "cell_type": "code",
   "execution_count": null,
   "id": "34862a52-9c89-4ba9-99ec-fb5ecf68ca42",
   "metadata": {},
   "outputs": [],
   "source": [
    "merged = gdf.merge(df, on=[\"name\", \"adm0name\"])"
   ]
  },
  {
   "cell_type": "code",
   "execution_count": null,
   "id": "125e37ef-966a-4f6f-a961-158d61587530",
   "metadata": {},
   "outputs": [],
   "source": [
    "merged = gdf.merge(df, on=[\"name\", \"adm1name\", \"adm0name\"])"
   ]
  },
  {
   "cell_type": "code",
   "execution_count": null,
   "id": "a5a9d4ea-8a47-4afd-9205-8871af4eb7d3",
   "metadata": {},
   "outputs": [],
   "source": []
  },
  {
   "cell_type": "code",
   "execution_count": null,
   "id": "46749588-5b51-4133-8a88-16c02e31d1d3",
   "metadata": {},
   "outputs": [],
   "source": []
  },
  {
   "cell_type": "markdown",
   "id": "24c153c8-0bdc-481d-825d-c3f5dfb094dc",
   "metadata": {},
   "source": [
    "## Cities"
   ]
  },
  {
   "cell_type": "code",
   "execution_count": null,
   "id": "74b56e4a-c6b2-4e1e-a2d5-28092b4eaf71",
   "metadata": {},
   "outputs": [],
   "source": [
    "# pd.set_option(\"display.max.columns\", None)"
   ]
  },
  {
   "cell_type": "code",
   "execution_count": null,
   "id": "518ca850-67b5-4e27-82b0-790939a01d18",
   "metadata": {},
   "outputs": [],
   "source": [
    "# get olivia data\n",
    "df = load_sheet(refresh=False)\n",
    "\n",
    "# prepare it\n",
    "df = df.reset_index()\n",
    "df[\"date\"] = pd.to_datetime(df[\"date\"])"
   ]
  },
  {
   "cell_type": "code",
   "execution_count": null,
   "id": "b75aea2d-6fdc-4a2e-a09e-1e0fded77d42",
   "metadata": {},
   "outputs": [],
   "source": [
    "\n",
    "\n",
    "# get cities data\n",
    "gdf_full = gpd.read_file(FP_NE_CITIES)\n",
    "\n",
    "# prepare it\n",
    "# gdf = gdf_full.reset_index().loc[:, [\"index\", \"name\", \"adm1name\", \"adm0name\"]]\n",
    "gdf = gdf_full"
   ]
  },
  {
   "cell_type": "code",
   "execution_count": null,
   "id": "4f541b3a-44e5-48d2-b759-2890f2587c2c",
   "metadata": {},
   "outputs": [],
   "source": [
    "# gdf_full[gdf_full[\"NAME\"] == \"Helsinki\"]"
   ]
  },
  {
   "cell_type": "code",
   "execution_count": null,
   "id": "0005ad67-2db0-49cb-84be-9a543f617b51",
   "metadata": {},
   "outputs": [],
   "source": []
  },
  {
   "cell_type": "code",
   "execution_count": null,
   "id": "1a9f6abb-274b-47b3-90de-4f63bbcf569f",
   "metadata": {},
   "outputs": [],
   "source": []
  },
  {
   "cell_type": "code",
   "execution_count": null,
   "id": "13a497a4-15f3-4c18-917f-32f333217cbe",
   "metadata": {},
   "outputs": [],
   "source": []
  }
 ],
 "metadata": {
  "kernelspec": {
   "display_name": "Python 3 (ipykernel)",
   "language": "python",
   "name": "python3"
  },
  "language_info": {
   "codemirror_mode": {
    "name": "ipython",
    "version": 3
   },
   "file_extension": ".py",
   "mimetype": "text/x-python",
   "name": "python",
   "nbconvert_exporter": "python",
   "pygments_lexer": "ipython3",
   "version": "3.10.6"
  }
 },
 "nbformat": 4,
 "nbformat_minor": 5
}
